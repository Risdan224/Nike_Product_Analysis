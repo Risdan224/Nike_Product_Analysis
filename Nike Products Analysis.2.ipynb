{
 "cells": [
  {
   "cell_type": "markdown",
   "metadata": {},
   "source": [
    "# Nike Product Analysis\n",
    "## By: Risdan Kristori"
   ]
  },
  {
   "cell_type": "markdown",
   "metadata": {},
   "source": [
    "## Part 1: Importing Libraries and Data"
   ]
  },
  {
   "cell_type": "code",
   "execution_count": 1,
   "metadata": {},
   "outputs": [],
   "source": [
    "# importing libraries to process data\n",
    "import pandas as pd\n",
    "import numpy as np\n",
    "\n",
    "# import libraries for visualization\n",
    "import seaborn as sns\n",
    "import matplotlib.pyplot as plt\n",
    "\n",
    "# Check missing data location\n",
    "import missingno as msno\n",
    "\n",
    "# import library to create wordcloud\n",
    "from wordcloud import WordCloud, STOPWORDS"
   ]
  },
  {
   "cell_type": "code",
   "execution_count": 2,
   "metadata": {},
   "outputs": [],
   "source": [
    "# open data\n",
    "nike = pd.read_csv('nike_data_2022_09.csv', index_col='index')\n",
    "#nike.head(5)"
   ]
  },
  {
   "cell_type": "markdown",
   "metadata": {},
   "source": [
    "# Part 2: Data Preprocessing"
   ]
  },
  {
   "cell_type": "markdown",
   "metadata": {},
   "source": [
    "# Drop Unimportant Features"
   ]
  },
  {
   "cell_type": "code",
   "execution_count": null,
   "metadata": {},
   "outputs": [],
   "source": [
    "# Function to Check data information detail\n",
    "def info_detail(df_model):\n",
    "  listItem = []\n",
    "\n",
    "  for col in df_model.columns:\n",
    "      listItem.append([\n",
    "          col, \n",
    "          df_model[col].dtype, \n",
    "          df_model[col].isna().sum(), \n",
    "          round((df_model[col].isna().sum()/len(df_model[col]))*100, 2),\n",
    "          df_model[col].nunique(), \n",
    "          list(df_model[col].drop_duplicates().sample(1).values)\n",
    "      ]);\n",
    "\n",
    "  df_model_desc = pd.DataFrame(columns=['dataFeatures', 'dataType', 'null', 'nullPct', 'unique','sampleVal'], #, 'uniqueSample'\n",
    "                      data=listItem)\n",
    "  return df_model_desc"
   ]
  }
 ],
 "metadata": {
  "kernelspec": {
   "display_name": "Python 3",
   "language": "python",
   "name": "python3"
  },
  "language_info": {
   "codemirror_mode": {
    "name": "ipython",
    "version": 3
   },
   "file_extension": ".py",
   "mimetype": "text/x-python",
   "name": "python",
   "nbconvert_exporter": "python",
   "pygments_lexer": "ipython3",
   "version": "3.7.4"
  }
 },
 "nbformat": 4,
 "nbformat_minor": 2
}
